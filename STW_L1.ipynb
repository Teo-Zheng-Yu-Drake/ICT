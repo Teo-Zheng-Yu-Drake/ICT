{
 "cells": [
  {
   "cell_type": "markdown",
   "id": "7ab271c6-971f-49fb-9fa9-ed28b448b4a2",
   "metadata": {},
   "source": [
    "### Introduction to Python\n",
    "#### See-Think-Wonder\n",
    "\n",
    "In your groups, read the following two code segments.  \n",
    "Run the code by selecting the code cell and hit \"Command-Return\".  \n",
    "After that, discuss in your groups the following:\n",
    "\n",
    "1. See: What did you see in the code segments?\n",
    "2. Think: Interpret what you think is happening by the code.\n",
    "3. Wonder: What does your thinking make you wonder?\n",
    "        "
   ]
  },
  {
   "cell_type": "code",
   "execution_count": 1,
   "id": "aeaa3e0d-f557-4599-8525-30594a5353b7",
   "metadata": {},
   "outputs": [
    {
     "name": "stdout",
     "output_type": "stream",
     "text": [
      "The density is 8.895706\n"
     ]
    }
   ],
   "source": [
    "density = 14.5/1.63\n",
    "print(\"The density is %f\" %density)"
   ]
  },
  {
   "cell_type": "code",
   "execution_count": 32,
   "id": "ef19c967-6d21-4920-be18-2884f8a6e76f",
   "metadata": {},
   "outputs": [
    {
     "name": "stdout",
     "output_type": "stream",
     "text": [
      "The density is 88.95705521472393684235\n"
     ]
    }
   ],
   "source": [
    "mass = 145\n",
    "volume = 1.63\n",
    "density = mass/volume\n",
    "print(\"The density is %.20f\" % density)"
   ]
  },
  {
   "cell_type": "code",
   "execution_count": null,
   "id": "f0028bff-f36c-4de3-a1aa-daff9a9a37c4",
   "metadata": {},
   "outputs": [],
   "source": [
    "tes = input(\"complete the word. ne\")\n",
    "e = \"ok boomer\"\n",
    "if tes == \"gga\":\n",
    "    print(e)"
   ]
  }
 ],
 "metadata": {
  "kernelspec": {
   "display_name": "Python 3 (ipykernel)",
   "language": "python",
   "name": "python3"
  },
  "language_info": {
   "codemirror_mode": {
    "name": "ipython",
    "version": 3
   },
   "file_extension": ".py",
   "mimetype": "text/x-python",
   "name": "python",
   "nbconvert_exporter": "python",
   "pygments_lexer": "ipython3",
   "version": "3.11.3"
  }
 },
 "nbformat": 4,
 "nbformat_minor": 5
}
